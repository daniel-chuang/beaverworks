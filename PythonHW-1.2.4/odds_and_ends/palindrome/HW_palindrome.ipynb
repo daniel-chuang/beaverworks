{
 "cells": [
  {
   "cell_type": "markdown",
   "metadata": {},
   "source": [
    "# Is it a palindrome?\n",
    "\n",
    "A palindrome is a word, phrase, or sequence that reads the same backward as forward, e.g., madam or nurses run.\n",
    "\n",
    "Write code that takes a string and returns `True` if that string is a palindrome. Your analysis should be case-insensitive and should disregard spaces. E.g. \"Race car\" should be considered a palindrome, despite beginning with a capitalized letter and containing a space. None of the strings will contain punctuation. Thus your function should produce the following behavior:\n",
    "\n",
    "- \"Are we not drawn onward to new era\" -> True\n",
    "- \"batman\" -> False\n",
    "\n",
    "## Required Concepts\n",
    "Basic Object Types\n",
    "- strings\n",
    "- checking equality\n",
    "\n",
    "Sequence Types\n",
    "- slicing\n",
    "\n",
    "## Examples\n",
    "```python\n",
    ">>> student_func(\"Race car\")\n",
    "True\n",
    "\n",
    ">>> student_func(\"RaCeCaR\")\n",
    "True\n",
    "\n",
    ">>> student_func(\"apple\")\n",
    "False\n",
    "```"
   ]
  },
  {
   "cell_type": "code",
   "execution_count": 34,
   "metadata": {},
   "outputs": [],
   "source": [
    "# make sure to execute this cell so that your function is defined\n",
    "# you must re-run this cell any time you make a change to this function\n",
    "import math\n",
    "def student_func(x):\n",
    "    # `x` is a string\n",
    "    # this function should return either `True` or `False`\n",
    "    \n",
    "    # write your code here\n",
    "    # be sure to include a `return` statement so that\n",
    "    # your function returns the appropriate object.\n",
    "    x = x.lower()\n",
    "    x = x.replace(\" \", \"\")\n",
    "    x_len = len(x)\n",
    "    if x_len % 2 == 0: # if the string has even length\n",
    "        x_1 = x[0 : int((x_len/2)): 1]\n",
    "        x_2 = x[int(x_len - 1):int(x_len/2) - 1:-1]\n",
    "        if x_1 == x_2:\n",
    "            return True\n",
    "        return False\n",
    "    else: # if the string has odd length\n",
    "        x_1 = x[0 : int(math.floor(x_len/2)) : 1]\n",
    "        x_2 = x[int(x_len - 1):int(math.ceil(x_len/2) - 1):-1]\n",
    "        if x_1 == x_2:\n",
    "            return True\n",
    "        return False"
   ]
  },
  {
   "cell_type": "code",
   "execution_count": 35,
   "metadata": {},
   "outputs": [
    {
     "output_type": "stream",
     "name": "stdout",
     "text": [
      "\n============================== ALL TESTS PASSED! ===============================\nYour submission code: bw5a137af434b22dce4b6c174e3de60dfdd65f7d05ed3b68f4359e8e6f\n================================================================================\n\n"
     ]
    }
   ],
   "source": [
    "# Execute this cell to grade your work\n",
    "from bwsi_grader.python.palindrome import grader\n",
    "grader(student_func)"
   ]
  },
  {
   "cell_type": "code",
   "execution_count": null,
   "metadata": {},
   "outputs": [],
   "source": []
  }
 ],
 "metadata": {
  "kernelspec": {
   "display_name": "Python 3",
   "language": "python",
   "name": "python3"
  },
  "language_info": {
   "codemirror_mode": {
    "name": "ipython",
    "version": 3
   },
   "file_extension": ".py",
   "mimetype": "text/x-python",
   "name": "python",
   "nbconvert_exporter": "python",
   "pygments_lexer": "ipython3",
   "version": "3.8.5"
  }
 },
 "nbformat": 4,
 "nbformat_minor": 2
}